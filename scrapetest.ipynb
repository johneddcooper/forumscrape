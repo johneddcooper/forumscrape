{
 "cells": [
  {
   "cell_type": "code",
   "execution_count": 1,
   "metadata": {},
   "outputs": [],
   "source": [
    "import requests"
   ]
  },
  {
   "cell_type": "code",
   "execution_count": 41,
   "metadata": {},
   "outputs": [],
   "source": [
    "from bs4 import BeautifulSoup\n",
    "import re"
   ]
  },
  {
   "cell_type": "code",
   "execution_count": 4,
   "metadata": {},
   "outputs": [],
   "source": [
    "url = \"https://incels.is/threads/why-we-are-superior-to-nice-guys-and-neck-beards.95871/#post-1863255\"\n",
    "r = requests.get(url)\n",
    "soup = BeautifulSoup(r.text, 'html.parser')"
   ]
  },
  {
   "cell_type": "code",
   "execution_count": 94,
   "metadata": {},
   "outputs": [],
   "source": [
    "class thread:\n",
    "    def __init__(self):\n",
    "        self.title = None\n",
    "        self.time_created = None\n",
    "        self.posts = []\n",
    "        self.url = None\n",
    "        self.op_account_name = None\n",
    "        self.op_account_link = None\n",
    "        \n"
   ]
  },
  {
   "cell_type": "code",
   "execution_count": 91,
   "metadata": {},
   "outputs": [
    {
     "data": {
      "text/plain": [
       "{'title': 'Why we are superior to \"nice guys\" and \"neck beards\"',\n",
       " 'time_created': '1545329860',\n",
       " 'posts': [],\n",
       " 'url': 'https://incels.is/threads/why-we-are-superior-to-nice-guys-and-neck-beards.95871/',\n",
       " 'op_account_name': 'The_Unknown',\n",
       " 'op_account_link': '/members/the_unknown.15263/',\n",
       " 'label': 'Serious'}"
      ]
     },
     "execution_count": 91,
     "metadata": {},
     "output_type": "execute_result"
    }
   ],
   "source": [
    "new_thread = thread()\n",
    "new_thread.title = soup.title.text\n",
    "header = soup.find(class_=\"p-body-header\")\n",
    "label, title = [string for string in re.split(r'\\n|\\xa0', header.find(class_=\"p-title\").text) if string != \"\"]\n",
    "label = label.strip('[]')\n",
    "new_thread.url = soup.find(property=\"og:url\")[\"content\"]\n",
    "new_thread.label = label\n",
    "new_thread.title = title\n",
    "new_thread.time_created = header.find(\"time\")[\"data-time\"]\n",
    "new_thread.op_account_name = header.find(class_=\"username--style2\").text\n",
    "new_thread.op_account_link = header.find(class_=\"username u-concealed\")[\"href\"]\n",
    "new_thread.__dict__"
   ]
  },
  {
   "cell_type": "code",
   "execution_count": 98,
   "metadata": {},
   "outputs": [
    {
     "name": "stdout",
     "output_type": "stream",
     "text": [
      "{'author_account_name': 'The_Unknown', 'author_account_link': '/members/the_unknown.15263/', 'time_created': '1545329860', 'content': 'Incels are often lumped in with nice guys and neck beards and for some examples cross overs between these groups may occur, however we are fundamentally we are superior to these groups because we are hyper self aware of our lot in life whilst they are incredibly delusional. \\n\\nLets start of with nice guys, nice guys are for the most part blue pilled because they believe that being nice will make women interested in you and therefore they will become doormats not just for foids but also for other men. Nice guys often get delusional when a foid treats them with just a little bit of human dignity to the point that they think that the foid is interested in them. The worst kind of nice guys are the simps the sort of cucks who spend money on E-thots in exchange for something pathetic like a shout out or the cucks whom say shit like, \"I\\'d walk through the hottest desert covered in glass just so I can sniff her fart.\"\\n\\nNeck beards are what normies think we are, this is because to the normie all one needs to do is to shower, eat healthily and exercise as well as not dress like a retard. All of this advice would honestly help a lot of neckbeards not be physically disgusting. However our problems go a lot deeper than that of exercise or hygine as the problems we are face are due to bad genetics, shitty upbringing, mental scarring with school etc. Neckbeards are delusional and believe themselves to be the smarted and greatest people to ever exist. Look through the vast majority of incel posts and we are the complete opposite to this, we are aware of our failure and therefore we are not deluded.', 'post_uid': 'post-1863058', 'permalink': '/threads/why-we-are-superior-to-nice-guys-and-neck-beards.95871/post-1863058'}\n",
      "{'author_account_name': 'Blacktarpill', 'author_account_link': '/members/blacktarpill.14509/', 'time_created': '1545329935', 'content': '\\n\\nThe_Unknown said:\\n\\n\\n\\ndoormats\\n\\nClick to expand...\\n\\n@Footmat', 'post_uid': 'post-1863063', 'permalink': '/threads/why-we-are-superior-to-nice-guys-and-neck-beards.95871/post-1863063'}\n",
      "{'author_account_name': 'Iamthesui', 'author_account_link': '/members/iamthesui.13576/', 'time_created': '1545330057', 'content': \"We aren't cucked\", 'post_uid': 'post-1863071', 'permalink': '/threads/why-we-are-superior-to-nice-guys-and-neck-beards.95871/post-1863071'}\n",
      "{'author_account_name': 'PersonalityChad', 'author_account_link': '/members/personalitychad.5730/', 'time_created': '1545330076', 'content': 'JFL if you are nice to females in current year and expect to get puss for that.', 'post_uid': 'post-1863074', 'permalink': '/threads/why-we-are-superior-to-nice-guys-and-neck-beards.95871/post-1863074'}\n",
      "{'author_account_name': 'Cuyen', 'author_account_link': '/members/cuyen.12431/', 'time_created': '1545330507', 'content': \"\\n\\nIamthesui said:\\n\\n\\n\\nWe aren't cucked\\n\\nClick to expand...\\n\\nthis biggest superiority tbh\", 'post_uid': 'post-1863106', 'permalink': '/threads/why-we-are-superior-to-nice-guys-and-neck-beards.95871/post-1863106'}\n",
      "{'author_account_name': 'TheProphetMuscle', 'author_account_link': '/members/theprophetmuscle.9044/', 'time_created': '1545330907', 'content': 'I used to be a nice guy, I’d treat foids super nice and buy them gifts with hopes they would love me in return. But no. They end up fucking some douche who looks better. This made me soooo angry inside and I refuse to be nice to foids anymore', 'post_uid': 'post-1863146', 'permalink': '/threads/why-we-are-superior-to-nice-guys-and-neck-beards.95871/post-1863146'}\n",
      "{'author_account_name': 'Michael15651', 'author_account_link': '/members/michael15651.15599/', 'time_created': '1545331779', 'content': \"\\n\\nIamthesui said:\\n\\n\\n\\nWe aren't cucked\\n\\nClick to expand...\\n\\nBest and most simple way to put it tbh\", 'post_uid': 'post-1863255', 'permalink': '/threads/why-we-are-superior-to-nice-guys-and-neck-beards.95871/post-1863255'}\n"
     ]
    }
   ],
   "source": [
    "articles = soup.find_all(\"article\", class_=\"message--post\")\n",
    "class post:\n",
    "    def __init__(self):\n",
    "        self.author_account_name = None\n",
    "        self.author_account_link = None\n",
    "        self.time_created = None\n",
    "        self.content = None\n",
    "        self.post_uid = None\n",
    "        self.permalink = None\n",
    "post_list = []\n",
    "for article in articles:\n",
    "    new_post = post()\n",
    "    new_post.author_account_name = article[\"data-author\"]\n",
    "    new_post.post_uid = article[\"data-content\"]\n",
    "    new_post.author_account_link = article.find(class_=\"message-userDetails\").find(\"a\")[\"href\"]\n",
    "    new_post.time_created = article.find(class_=\"message-date\").find(\"time\")['data-time']\n",
    "    new_post.permalink = article.find(class_='message-permalink').find('a')['href']\n",
    "    new_post.content = article.find(class_=\"bbWrapper\").text\n",
    "    post_list.append(new_post)\n",
    "for post in post_list:\n",
    "    print(post.__dict__)"
   ]
  },
  {
   "cell_type": "code",
   "execution_count": null,
   "metadata": {},
   "outputs": [],
   "source": []
  },
  {
   "cell_type": "code",
   "execution_count": null,
   "metadata": {},
   "outputs": [],
   "source": []
  },
  {
   "cell_type": "code",
   "execution_count": null,
   "metadata": {},
   "outputs": [],
   "source": []
  }
 ],
 "metadata": {
  "kernelspec": {
   "display_name": "Python 3",
   "language": "python",
   "name": "python3"
  },
  "language_info": {
   "codemirror_mode": {
    "name": "ipython",
    "version": 3
   },
   "file_extension": ".py",
   "mimetype": "text/x-python",
   "name": "python",
   "nbconvert_exporter": "python",
   "pygments_lexer": "ipython3",
   "version": "3.7.0"
  }
 },
 "nbformat": 4,
 "nbformat_minor": 2
}
