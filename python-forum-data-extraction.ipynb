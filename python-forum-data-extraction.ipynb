{
 "cells": [
  {
   "cell_type": "code",
   "execution_count": 5,
   "metadata": {},
   "outputs": [],
   "source": [
    "import requests\n",
    "import sys\n",
    "#!{sys.executable} -m pip install --upgrade pip\n",
    "import scrapy\n",
    "from html2text import html2text\n",
    "\n",
    "from scrapy.selector import Selector\n",
    "from scrapy.http import HtmlResponse"
   ]
  },
  {
   "cell_type": "code",
   "execution_count": 60,
   "metadata": {},
   "outputs": [],
   "source": [
    "thread_url = \"http://fruitsandveggies.forumotion.com/t4-bears-beets\"\n",
    "request_file = requests.get(thread_url)\n",
    "thread_html_text = request_file.text"
   ]
  },
  {
   "cell_type": "code",
   "execution_count": 61,
   "metadata": {},
   "outputs": [],
   "source": [
    "class thread:\n",
    "    def __init__(self):\n",
    "        self.title = None\n",
    "        self.time_created = None\n",
    "        self.posts = []\n",
    "        self.url = None\n",
    "        self.op_account_name = None\n",
    "        self.op_account_link = None\n",
    "new_thread = thread()\n",
    "new_thread.title = Selector(text = thread_html_text).xpath(\"//meta[@name='title']/@content\").extract()[0]"
   ]
  },
  {
   "cell_type": "code",
   "execution_count": 62,
   "metadata": {},
   "outputs": [
    {
     "name": "stdout",
     "output_type": "stream",
     "text": [
      "{'author_account_name': 'DwightLight', 'title': 'Bears. Beets.', 'content': 'Battlestar Galactica.'}\n",
      "{'author_account_name': 'Schrute Farms Official', 'title': 'NO ONE READ THE ABOVE, THAT IS NOT ME', 'content': 'Identity theft is not a joke, Jim! Millions of families suffer every year!'}\n",
      "{'author_account_name': 'DwightLight', 'title': 'Michael!', 'content': '*storms off*'}\n",
      "{'author_account_name': 'Schrute Farms Official', 'title': \"Oh that's funny\", 'content': 'MICHAEL'}\n"
     ]
    }
   ],
   "source": [
    "class post:\n",
    "    def __init__(self):\n",
    "        self.author_account_name = None\n",
    "        self.title = None\n",
    "        self.content = None\n",
    "post_authors = Selector(text = thread_html_text).xpath(\"//body//dl/dt//div[@class='postprofile-name']/text()\").extract()\n",
    "post_title = Selector(text=thread_html_text).xpath(\"//h2[@class='topic-title']//a/text()\").extract()\n",
    "post_contents = Selector(text=thread_html_text).xpath(\"//div[@class='postbody']/div[@class='content']/div/text()\").extract()\n",
    "posts = []\n",
    "for author, title, content in zip(post_authors, post_title, post_contents):\n",
    "    new_post = post()\n",
    "    new_post.author_account_name = author\n",
    "    new_post.title = title\n",
    "    new_post.content = content\n",
    "    posts.append(new_post)\n",
    "for _post in posts:\n",
    "    print(_post.__dict__)"
   ]
  }
 ],
 "metadata": {
  "kernelspec": {
   "display_name": "Python 3",
   "language": "python",
   "name": "python3"
  },
  "language_info": {
   "codemirror_mode": {
    "name": "ipython",
    "version": 3
   },
   "file_extension": ".py",
   "mimetype": "text/x-python",
   "name": "python",
   "nbconvert_exporter": "python",
   "pygments_lexer": "ipython3",
   "version": "3.7.0"
  }
 },
 "nbformat": 4,
 "nbformat_minor": 2
}
