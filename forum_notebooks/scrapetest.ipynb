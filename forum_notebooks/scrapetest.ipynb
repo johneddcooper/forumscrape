{
 "cells": [
  {
   "cell_type": "code",
   "execution_count": 1,
   "metadata": {},
   "outputs": [],
   "source": [
    "import requests"
   ]
  },
  {
   "cell_type": "code",
   "execution_count": 15,
   "metadata": {},
   "outputs": [],
   "source": [
    "from bs4 import BeautifulSoup\n",
    "import re"
   ]
  },
  {
   "cell_type": "code",
   "execution_count": 2,
   "metadata": {},
   "outputs": [
    {
     "name": "stdout",
     "output_type": "stream",
     "text": [
      "Requirement already satisfied: html2text in c:\\users\\john\\anaconda3\\lib\\site-packages (2018.1.9)\n"
     ]
    },
    {
     "name": "stderr",
     "output_type": "stream",
     "text": [
      "twisted 18.7.0 requires PyHamcrest>=1.9.0, which is not installed.\n",
      "You are using pip version 10.0.1, however version 18.1 is available.\n",
      "You should consider upgrading via the 'python -m pip install --upgrade pip' command.\n"
     ]
    }
   ],
   "source": [
    "import sys\n",
    "!{sys.executable} -m pip install html2text"
   ]
  },
  {
   "cell_type": "code",
   "execution_count": 3,
   "metadata": {},
   "outputs": [],
   "source": [
    "import scrapy\n",
    "from html2text import html2text"
   ]
  },
  {
   "cell_type": "code",
   "execution_count": 41,
   "metadata": {},
   "outputs": [],
   "source": [
    "url = \"https://incels.is/threads/how-females-are-brainwashed-by-porn-and-become-deluded-to-penis-sizes-lifefuel-the-same-as-incels-here-so-if-you-are-a-dicklet-gtfih.99868/\"\n",
    "r = requests.get(url)\n",
    "soup = BeautifulSoup(r.text, 'html.parser')"
   ]
  },
  {
   "cell_type": "code",
   "execution_count": 4,
   "metadata": {},
   "outputs": [],
   "source": [
    "from scrapy.selector import Selector\n",
    "from scrapy.http import HtmlResponse"
   ]
  },
  {
   "cell_type": "code",
   "execution_count": 23,
   "metadata": {},
   "outputs": [],
   "source": [
    "class thread:\n",
    "    def __init__(self):\n",
    "        self.title = None\n",
    "        self.time_created = None\n",
    "        self.posts = []\n",
    "        self.url = None\n",
    "        self.op_account_name = None\n",
    "        self.op_account_link = None"
   ]
  },
  {
   "cell_type": "code",
   "execution_count": 42,
   "metadata": {},
   "outputs": [
    {
     "ename": "AttributeError",
     "evalue": "'NoneType' object has no attribute 'text'",
     "output_type": "error",
     "traceback": [
      "\u001b[1;31m---------------------------------------------------------------------------\u001b[0m",
      "\u001b[1;31mAttributeError\u001b[0m                            Traceback (most recent call last)",
      "\u001b[1;32m<ipython-input-42-55ef5854d4d0>\u001b[0m in \u001b[0;36m<module>\u001b[1;34m()\u001b[0m\n\u001b[0;32m      8\u001b[0m \u001b[0mnew_thread\u001b[0m\u001b[1;33m.\u001b[0m\u001b[0mtitle\u001b[0m \u001b[1;33m=\u001b[0m \u001b[0mtitle\u001b[0m\u001b[1;33m\u001b[0m\u001b[0m\n\u001b[0;32m      9\u001b[0m \u001b[0mnew_thread\u001b[0m\u001b[1;33m.\u001b[0m\u001b[0mtime_created\u001b[0m \u001b[1;33m=\u001b[0m \u001b[0mheader\u001b[0m\u001b[1;33m.\u001b[0m\u001b[0mfind\u001b[0m\u001b[1;33m(\u001b[0m\u001b[1;34m\"time\"\u001b[0m\u001b[1;33m)\u001b[0m\u001b[1;33m[\u001b[0m\u001b[1;34m\"data-time\"\u001b[0m\u001b[1;33m]\u001b[0m\u001b[1;33m\u001b[0m\u001b[0m\n\u001b[1;32m---> 10\u001b[1;33m \u001b[0mnew_thread\u001b[0m\u001b[1;33m.\u001b[0m\u001b[0mop_account_name\u001b[0m \u001b[1;33m=\u001b[0m \u001b[0mheader\u001b[0m\u001b[1;33m.\u001b[0m\u001b[0mfind\u001b[0m\u001b[1;33m(\u001b[0m\u001b[0mclass_\u001b[0m\u001b[1;33m=\u001b[0m\u001b[1;34m\"username--style2\"\u001b[0m\u001b[1;33m)\u001b[0m\u001b[1;33m.\u001b[0m\u001b[0mtext\u001b[0m\u001b[1;33m\u001b[0m\u001b[0m\n\u001b[0m\u001b[0;32m     11\u001b[0m \u001b[0mnew_thread\u001b[0m\u001b[1;33m.\u001b[0m\u001b[0mop_account_link\u001b[0m \u001b[1;33m=\u001b[0m \u001b[0mheader\u001b[0m\u001b[1;33m.\u001b[0m\u001b[0mfind\u001b[0m\u001b[1;33m(\u001b[0m\u001b[0mclass_\u001b[0m\u001b[1;33m=\u001b[0m\u001b[1;34m\"username u-concealed\"\u001b[0m\u001b[1;33m)\u001b[0m\u001b[1;33m[\u001b[0m\u001b[1;34m\"href\"\u001b[0m\u001b[1;33m]\u001b[0m\u001b[1;33m\u001b[0m\u001b[0m\n",
      "\u001b[1;31mAttributeError\u001b[0m: 'NoneType' object has no attribute 'text'"
     ]
    }
   ],
   "source": [
    "new_thread = thread()\n",
    "new_thread.title = soup.title.text\n",
    "header = soup.find(class_=\"p-body-header\")\n",
    "label, title = [string for string in re.split(r'\\n|\\xa0', header.find(class_=\"p-title\").text) if string != \"\"]\n",
    "label = label.strip('[]')\n",
    "new_thread.url = soup.find(property=\"og:url\")[\"content\"]\n",
    "new_thread.label = label\n",
    "new_thread.title = title\n",
    "new_thread.time_created = header.find(\"time\")[\"data-time\"]\n",
    "new_thread.op_account_name = header.find(class_=\"username--style2\").text\n",
    "new_thread.op_account_link = header.find(class_=\"username u-concealed\")[\"href\"]"
   ]
  },
  {
   "cell_type": "code",
   "execution_count": 43,
   "metadata": {},
   "outputs": [
    {
     "name": "stdout",
     "output_type": "stream",
     "text": [
      "How FEMALES are brainwashed by PORN and become deluded to penis sizes. [LIFEFUEL]The same as INCELS here so if you are a DICKLET GTFIH\n",
      "\n",
      "Serious\n",
      "['1546994407']\n",
      "['Eskimocel']\n",
      "15752\n",
      "/members/eskimocel.15752/\n"
     ]
    }
   ],
   "source": [
    "text = r.text\n",
    "header_info = Selector(text = text).xpath(\"//div[@class = 'p-body-header']/div[@class='p-title ']//text()\").extract()\n",
    "label, title = [string for string in header_info if string not in ['','\\n','\\xa0']]\n",
    "label = label.strip('[]')\n",
    "url = Selector(text = text).xpath(\"//meta[@property = 'og:url']/@content\").extract()[0]\n",
    "time_created = Selector(text = text).xpath(\"//div[@class='p-body-header']//time/@data-time\").extract()\n",
    "op_account_name = Selector(text = text).xpath(\"//div[@class='p-description']//a[contains(@class,'username')]/span/text()\").extract()\n",
    "op_account_number = Selector(text = text).xpath(\"//div[@class='p-description']//a[@class='username  u-concealed']/@data-user-id\").extract()[0]\n",
    "op_account_link = Selector(text = text).xpath(\"//div[@class='p-description']//a[@class='username  u-concealed']/@href\").extract()[0]\n",
    "print(title)\n",
    "print(label)\n",
    "print(time_created)\n",
    "print(op_account_name)\n",
    "print(op_account_number)\n",
    "print(op_account_link)"
   ]
  },
  {
   "cell_type": "code",
   "execution_count": 44,
   "metadata": {},
   "outputs": [
    {
     "name": "stdout",
     "output_type": "stream",
     "text": [
      "{'author_account_name': ['Eskimocel'], 'author_account_link': ['/members/eskimocel.15752/'], 'author_account_number': ['15752'], 'time_created': ['1546994407'], 'content': ['We all know that women expect a 9 inch dick nowadays right? They all tell you to compensate for your 5inch small penis. Right? Well statistically this is how it is and you wont have to compensate if you have the measurements i stated at the bottom for your penis.', '\\n', '\\nWe can all agree to femoids being brainwashed by PORN and the BBC logic? If you told your local stacy that you have a 5inch penis she would mock your face off the earth, she wouldnt give a fuck if you were chadlite. But lets say you get to the sexual stage, this info will be helpful for coping \"dicklets\" \"im 5inch bro i need a 30mile cock otherwise its over\"', '\\n', '\\nLETS CLEAR SOME THINGS.', '\\n', '\\n', '\\n', '\\nIts pretty much impossible to have a 9inch penis.', '\\n', '\\nPornstar GABRIELA PALTROVA said: ', 'That means its around 6 as the average erect penis is ', ' (', ') long. Keep in mind they are PORNSTARS they havent taken KM of dick, they have taken MILES AND MILES ON END.', '\\n', '\\nThey have taken various LENGTHS and GIRTHS. At one point all of them have taken the \"monster cock\" you people always dream of having. Keep in mind that despite taking this \"MONSTER COCK ARHGHGHGH\" they still prefere a more downsized version of it. KEEP IN MIND ITS STILL ABOVE AVERAGE.', '\\n', '\\nNow.. how deep can you go in a female? \"yeh bro i wanna go deep, DEPTHHHH\"', '\\nWell this is how deep you can go on average:', '\\n', '\\n', '\\n', '\\n', '\\n', '\\n', '\\nBut what about reaching the G spot which is next to the wall which can be reached with your dick girth which on average is: ', '\\n', '\\nDont forget, THE AVERAGE IS 4.59 OK?', '\\n', '\\nThe average vagina WIDTH is: ', '\\n', '\\n', '\\n', '\\n', '\\n', '\\nAlso try not to forget that girth is better than length, the vagina expands in a aroused state.- ', ' ', '\\nNow keep in mind guys. First you need to get a femoid to get laid', '\\n', '\\n', ' you can elaborate more, you are a expert in this field '], 'post_uid': ['post-1952929'], 'permalink': ['/threads/how-females-are-brainwashed-by-porn-and-become-deluded-to-penis-sizes-lifefuel-the-same-as-incels-here-so-if-you-are-a-dicklet-gtfih.99868/post-1952929']}\n",
      "\n",
      "\n",
      "{'author_account_name': ['The Abyss'], 'author_account_link': ['/members/the-abyss.11229/'], 'author_account_number': ['11229'], 'time_created': ['1546994524'], 'content': [], 'post_uid': ['post-1952938'], 'permalink': ['/threads/how-females-are-brainwashed-by-porn-and-become-deluded-to-penis-sizes-lifefuel-the-same-as-incels-here-so-if-you-are-a-dicklet-gtfih.99868/post-1952938']}\n",
      "\n",
      "\n",
      "{'author_account_name': ['Eskimocel'], 'author_account_link': ['/members/eskimocel.15752/'], 'author_account_number': ['15752'], 'time_created': ['1546994560'], 'content': ['Elab, cant see link.'], 'post_uid': ['post-1952943'], 'permalink': ['/threads/how-females-are-brainwashed-by-porn-and-become-deluded-to-penis-sizes-lifefuel-the-same-as-incels-here-so-if-you-are-a-dicklet-gtfih.99868/post-1952943']}\n",
      "\n",
      "\n",
      "{'author_account_name': ['RREEEEEEEEE'], 'author_account_link': ['/members/rreeeeeeeee.15/'], 'author_account_number': ['15'], 'time_created': ['1546994563'], 'content': [\"Extremely high IQ thread, this is the ultimate dickpill. Any naysayer is a mere product of said brainwashing. You have said all there is needed to say. One more thing, however, I could add is that females do not know what they're talking about when it comes to dick sizes due to the fact that their partners have lied about their dick size. A 4 inch dick gets frauded as a 6 inch dick, a 5 inch dick gets frauded as a 7 inch dick, et cetera.\"], 'post_uid': ['post-1952944'], 'permalink': ['/threads/how-females-are-brainwashed-by-porn-and-become-deluded-to-penis-sizes-lifefuel-the-same-as-incels-here-so-if-you-are-a-dicklet-gtfih.99868/post-1952944']}\n",
      "\n",
      "\n",
      "{'author_account_name': ['chudur-budur'], 'author_account_link': ['/members/chudur-budur.1060/'], 'author_account_number': ['1060'], 'time_created': ['1546994584'], 'content': ['Dickcopers are too stupid to realize their ugliness.'], 'post_uid': ['post-1952945'], 'permalink': ['/threads/how-females-are-brainwashed-by-porn-and-become-deluded-to-penis-sizes-lifefuel-the-same-as-incels-here-so-if-you-are-a-dicklet-gtfih.99868/post-1952945']}\n",
      "\n",
      "\n",
      "{'author_account_name': ['RREEEEEEEEE'], 'author_account_link': ['/members/rreeeeeeeee.15/'], 'author_account_number': ['15'], 'time_created': ['1546994660'], 'content': [\"I spread that URL around here. It proves us right; don't worry about it, boyo. The website is dedicated to showing us the real length of these porn actors. The writer states that most porn actors are between 6 and 6.5 inches and they're frauded heavily to make them seem bigger, it also says that there are some outliers; but none of these outliers are 9+ inch even though that's what porn producers/actors/et cetera want you to believe.\"], 'post_uid': ['post-1952950'], 'permalink': ['/threads/how-females-are-brainwashed-by-porn-and-become-deluded-to-penis-sizes-lifefuel-the-same-as-incels-here-so-if-you-are-a-dicklet-gtfih.99868/post-1952950']}\n",
      "\n",
      "\n",
      "{'author_account_name': ['Max_Payne'], 'author_account_link': ['/members/max_payne.16521/'], 'author_account_number': ['16521'], 'time_created': ['1546994675'], 'content': [\"Good post but your mistake was that you didn't account for the vagina expanding in a state of arousal so the 3.77 inches is actually much bigger.\"], 'post_uid': ['post-1952951'], 'permalink': ['/threads/how-females-are-brainwashed-by-porn-and-become-deluded-to-penis-sizes-lifefuel-the-same-as-incels-here-so-if-you-are-a-dicklet-gtfih.99868/post-1952951']}\n",
      "\n",
      "\n",
      "{'author_account_name': ['Eskimocel'], 'author_account_link': ['/members/eskimocel.15752/'], 'author_account_number': ['15752'], 'time_created': ['1546994675'], 'content': ['They complain about not getting laid because of their dicks. While they have never gotten to the stage of undressing a femoid lol', '\\n', '9 inches is INSANE. With 5 inches you shouldnt complain, girth is more important but make sure to not have a 5x6'], 'post_uid': ['post-1952954'], 'permalink': ['/threads/how-females-are-brainwashed-by-porn-and-become-deluded-to-penis-sizes-lifefuel-the-same-as-incels-here-so-if-you-are-a-dicklet-gtfih.99868/post-1952954']}\n",
      "\n",
      "\n",
      "{'author_account_name': ['Six'], 'author_account_link': ['/members/six.9731/'], 'author_account_number': ['9731'], 'time_created': ['1546994823'], 'content': ['Fucking porn.'], 'post_uid': ['post-1952962'], 'permalink': ['/threads/how-females-are-brainwashed-by-porn-and-become-deluded-to-penis-sizes-lifefuel-the-same-as-incels-here-so-if-you-are-a-dicklet-gtfih.99868/post-1952962']}\n",
      "\n",
      "\n",
      "{'author_account_name': ['The Abyss'], 'author_account_link': ['/members/the-abyss.11229/'], 'author_account_number': ['11229'], 'time_created': ['1546994977'], 'content': [\"Used to be open, now need an account due to nsfw, basically those huge 11 inch dicks you hear about guys having in porn is bs, it's more like 7 or 8 inches. They use 5'2 foids with childlike build & a 6 foot plus guy with 7 inch cock or camera angles that make him look bigger, a ruler showing 12 inches but they started measuring from the 4 inch mark, outright lie & call 6 inches 9 etc..\"], 'post_uid': ['post-1952972'], 'permalink': ['/threads/how-females-are-brainwashed-by-porn-and-become-deluded-to-penis-sizes-lifefuel-the-same-as-incels-here-so-if-you-are-a-dicklet-gtfih.99868/post-1952972']}\n",
      "\n",
      "\n",
      "{'author_account_name': ['Eskimocel'], 'author_account_link': ['/members/eskimocel.15752/'], 'author_account_number': ['15752'], 'time_created': ['1546995092'], 'content': ['Also the tall pornstars are fairly fit, they low bodyfat around the groin area so it makes it appear bigger. Also good point raised, the use 5ft tall femoids. Its all delusions and people bite it like its facts, forget \"dickcels\" here. The women are deluded so if you tell them its 5 they will think its small. Jfl i will measure from the 3inch mark from now on.'], 'post_uid': ['post-1952978'], 'permalink': ['/threads/how-females-are-brainwashed-by-porn-and-become-deluded-to-penis-sizes-lifefuel-the-same-as-incels-here-so-if-you-are-a-dicklet-gtfih.99868/post-1952978']}\n",
      "\n",
      "\n",
      "{'author_account_name': ['The Abyss'], 'author_account_link': ['/members/the-abyss.11229/'], 'author_account_number': ['11229'], 'time_created': ['1546995207'], 'content': [\"Don't forget those videos you can find of whores sticking huge bad dragon dildos up their tunabox all the way to the base.\", '\\n', '\\nThe thing about porn actors is a lot of the time they use guys with thick cocks, a 6 inch long thick dick will look bigger than a 7 inch skinny one.', '\\n', \"Fuck it, add 3 inches lol, not that you'll get to that stage anyway unless your face is good.\", '\\n', '\\nPorn industry in the west is run by Jews lol.'], 'post_uid': ['post-1952993'], 'permalink': ['/threads/how-females-are-brainwashed-by-porn-and-become-deluded-to-penis-sizes-lifefuel-the-same-as-incels-here-so-if-you-are-a-dicklet-gtfih.99868/post-1952993']}\n",
      "\n",
      "\n",
      "{'author_account_name': ['Eskimocel'], 'author_account_link': ['/members/eskimocel.15752/'], 'author_account_number': ['15752'], 'time_created': ['1546995353'], 'content': ['This is why girth with ok length is the best option'], 'post_uid': ['post-1953000'], 'permalink': ['/threads/how-females-are-brainwashed-by-porn-and-become-deluded-to-penis-sizes-lifefuel-the-same-as-incels-here-so-if-you-are-a-dicklet-gtfih.99868/post-1953000']}\n",
      "\n",
      "\n",
      "{'author_account_name': ['Salustio'], 'author_account_link': ['/members/salustio.5363/'], 'author_account_number': ['5363'], 'time_created': ['1546995380'], 'content': [\"I'm a dickcoper since 2014, dickmaxing with lowIQ penis enlargement. I would suggest that cope to you, because for me was very effective, but I don't know what are your expectations about the topic of penis enlargement.\"], 'post_uid': ['post-1953002'], 'permalink': ['/threads/how-females-are-brainwashed-by-porn-and-become-deluded-to-penis-sizes-lifefuel-the-same-as-incels-here-so-if-you-are-a-dicklet-gtfih.99868/post-1953002']}\n",
      "\n",
      "\n",
      "{'author_account_name': ['Justdone'], 'author_account_link': ['/members/justdone.12893/'], 'author_account_number': ['12893'], 'time_created': ['1546995432'], 'content': ['10 Guests won’t like this.'], 'post_uid': ['post-1953007'], 'permalink': ['/threads/how-females-are-brainwashed-by-porn-and-become-deluded-to-penis-sizes-lifefuel-the-same-as-incels-here-so-if-you-are-a-dicklet-gtfih.99868/post-1953007']}\n",
      "\n",
      "\n",
      "{'author_account_name': ['Eskimocel'], 'author_account_link': ['/members/eskimocel.15752/'], 'author_account_number': ['15752'], 'time_created': ['1546995438'], 'content': ['Its time for you to remeasure bro'], 'post_uid': ['post-1953008'], 'permalink': ['/threads/how-females-are-brainwashed-by-porn-and-become-deluded-to-penis-sizes-lifefuel-the-same-as-incels-here-so-if-you-are-a-dicklet-gtfih.99868/post-1953008']}\n",
      "\n",
      "\n",
      "{'author_account_name': ['The Abyss'], 'author_account_link': ['/members/the-abyss.11229/'], 'author_account_number': ['11229'], 'time_created': ['1546995637'], 'content': [\"Well they can get fucked then can't they, probably foids or betabux that share their wife with her boyfriend lol.\"], 'post_uid': ['post-1953022'], 'permalink': ['/threads/how-females-are-brainwashed-by-porn-and-become-deluded-to-penis-sizes-lifefuel-the-same-as-incels-here-so-if-you-are-a-dicklet-gtfih.99868/post-1953022']}\n",
      "\n",
      "\n",
      "{'author_account_name': ['Insomniac'], 'author_account_link': ['/members/insomniac.14776/'], 'author_account_number': ['14776'], 'time_created': ['1546995691'], 'content': [], 'post_uid': ['post-1953026'], 'permalink': ['/threads/how-females-are-brainwashed-by-porn-and-become-deluded-to-penis-sizes-lifefuel-the-same-as-incels-here-so-if-you-are-a-dicklet-gtfih.99868/post-1953026']}\n",
      "\n",
      "\n",
      "{'author_account_name': ['YungCell'], 'author_account_link': ['/members/yungcell.11234/'], 'author_account_number': ['11234'], 'time_created': ['1546995956'], 'content': [\"Hmmmmm..... thanks. Too bad I'm not gonna use my apparently above adaqite peepee.\"], 'post_uid': ['post-1953039'], 'permalink': ['/threads/how-females-are-brainwashed-by-porn-and-become-deluded-to-penis-sizes-lifefuel-the-same-as-incels-here-so-if-you-are-a-dicklet-gtfih.99868/post-1953039']}\n",
      "\n",
      "\n",
      "{'author_account_name': ['Eskimocel'], 'author_account_link': ['/members/eskimocel.15752/'], 'author_account_number': ['15752'], 'time_created': ['1546996026'], 'content': ['Hey, on the bright side you are good enough for sex.'], 'post_uid': ['post-1953042'], 'permalink': ['/threads/how-females-are-brainwashed-by-porn-and-become-deluded-to-penis-sizes-lifefuel-the-same-as-incels-here-so-if-you-are-a-dicklet-gtfih.99868/post-1953042']}\n",
      "\n",
      "\n",
      "{'author_account_name': ['CopeWithTheRope'], 'author_account_link': ['/members/copewiththerope.2576/'], 'author_account_number': ['2576'], 'time_created': ['1546997479'], 'content': [\"JFL @ zog stats. Cope of the year goes to you OP, and it's only fucking January. If you're under 7x5 inches, it's over. You're a dicklet. Word will spread so fast of your tiny baby cock. Keep coping, boyos.\"], 'post_uid': ['post-1953127'], 'permalink': ['/threads/how-females-are-brainwashed-by-porn-and-become-deluded-to-penis-sizes-lifefuel-the-same-as-incels-here-so-if-you-are-a-dicklet-gtfih.99868/post-1953127']}\n",
      "\n",
      "\n",
      "{'author_account_name': ['Captvic'], 'author_account_link': ['/members/captvic.211/'], 'author_account_number': ['211'], 'time_created': ['1546997605'], 'content': ['Lifefuel tbh'], 'post_uid': ['post-1953138'], 'permalink': ['/threads/how-females-are-brainwashed-by-porn-and-become-deluded-to-penis-sizes-lifefuel-the-same-as-incels-here-so-if-you-are-a-dicklet-gtfih.99868/post-1953138']}\n",
      "\n",
      "\n",
      "{'author_account_name': ['Eskimocel'], 'author_account_link': ['/members/eskimocel.15752/'], 'author_account_number': ['15752'], 'time_created': ['1546998400'], 'content': ['\\n', 'Bullshit, its not a cope. Its a genuine statistic that is actually not skewed like these looks experiments. Alot of you can get away with sticking your penis in there and thrusting like an autismo. I knew a reply like this was gonna happen.', '\\n', '\\n', ' i actually think its life fuel, but at the same time its not because porn fucks up foids minds.'], 'post_uid': ['post-1953187'], 'permalink': ['/threads/how-females-are-brainwashed-by-porn-and-become-deluded-to-penis-sizes-lifefuel-the-same-as-incels-here-so-if-you-are-a-dicklet-gtfih.99868/post-1953187']}\n",
      "\n",
      "\n",
      "{'author_account_name': ['CopeWithTheRope'], 'author_account_link': ['/members/copewiththerope.2576/'], 'author_account_number': ['2576'], 'time_created': ['1547000389'], 'content': ['You may be able to fool everyone else with your Jew stats, but i know better.'], 'post_uid': ['post-1953305'], 'permalink': ['/threads/how-females-are-brainwashed-by-porn-and-become-deluded-to-penis-sizes-lifefuel-the-same-as-incels-here-so-if-you-are-a-dicklet-gtfih.99868/post-1953305']}\n",
      "\n",
      "\n",
      "{'author_account_name': ['Eskimocel'], 'author_account_link': ['/members/eskimocel.15752/'], 'author_account_number': ['15752'], 'time_created': ['1547000551'], 'content': ['Being jew yourself i can see why you would know.'], 'post_uid': ['post-1953313'], 'permalink': ['/threads/how-females-are-brainwashed-by-porn-and-become-deluded-to-penis-sizes-lifefuel-the-same-as-incels-here-so-if-you-are-a-dicklet-gtfih.99868/post-1953313']}\n",
      "\n",
      "\n",
      "{'author_account_name': ['mylifeistrash'], 'author_account_link': ['/members/mylifeistrash.2459/'], 'author_account_number': ['2459'], 'time_created': ['1547000651'], 'content': [], 'post_uid': ['post-1953317'], 'permalink': ['/threads/how-females-are-brainwashed-by-porn-and-become-deluded-to-penis-sizes-lifefuel-the-same-as-incels-here-so-if-you-are-a-dicklet-gtfih.99868/post-1953317']}\n",
      "\n",
      "\n",
      "{'author_account_name': ['Eskimocel'], 'author_account_link': ['/members/eskimocel.15752/'], 'author_account_number': ['15752'], 'time_created': ['1547000714'], 'content': ['For dicksize its okay, just make sure you add a inch on top when she asks you for it. As for jawline you cant add mm cos she can see it'], 'post_uid': ['post-1953320'], 'permalink': ['/threads/how-females-are-brainwashed-by-porn-and-become-deluded-to-penis-sizes-lifefuel-the-same-as-incels-here-so-if-you-are-a-dicklet-gtfih.99868/post-1953320']}\n",
      "\n",
      "\n",
      "{'author_account_name': ['monkaGIGA'], 'author_account_link': ['/members/monkagiga.16610/'], 'author_account_number': ['16610'], 'time_created': ['1547000725'], 'content': ['GIGA cope', '\\n', '\\n8+ incher > everything'], 'post_uid': ['post-1953321'], 'permalink': ['/threads/how-females-are-brainwashed-by-porn-and-become-deluded-to-penis-sizes-lifefuel-the-same-as-incels-here-so-if-you-are-a-dicklet-gtfih.99868/post-1953321']}\n",
      "\n",
      "\n",
      "{'author_account_name': ['Eskimocel'], 'author_account_link': ['/members/eskimocel.15752/'], 'author_account_number': ['15752'], 'time_created': ['1547000788'], 'content': ['You are a giga low iqer'], 'post_uid': ['post-1953324'], 'permalink': ['/threads/how-females-are-brainwashed-by-porn-and-become-deluded-to-penis-sizes-lifefuel-the-same-as-incels-here-so-if-you-are-a-dicklet-gtfih.99868/post-1953324']}\n",
      "\n",
      "\n",
      "{'author_account_name': ['CopeWithTheRope'], 'author_account_link': ['/members/copewiththerope.2576/'], 'author_account_number': ['2576'], 'time_created': ['1547001025'], 'content': ['nice deflect, you kike'], 'post_uid': ['post-1953334'], 'permalink': ['/threads/how-females-are-brainwashed-by-porn-and-become-deluded-to-penis-sizes-lifefuel-the-same-as-incels-here-so-if-you-are-a-dicklet-gtfih.99868/post-1953334']}\n",
      "\n",
      "\n",
      "{'author_account_name': ['SoyUnPerdedor'], 'author_account_link': ['/members/soyunperdedor.14866/'], 'author_account_number': ['14866'], 'time_created': ['1547001081'], 'content': [' ', '\\nDevastating dickpill'], 'post_uid': ['post-1953337'], 'permalink': ['/threads/how-females-are-brainwashed-by-porn-and-become-deluded-to-penis-sizes-lifefuel-the-same-as-incels-here-so-if-you-are-a-dicklet-gtfih.99868/post-1953337']}\n",
      "\n",
      "\n",
      "{'author_account_name': ['Eskimocel'], 'author_account_link': ['/members/eskimocel.15752/'], 'author_account_number': ['15752'], 'time_created': ['1547001105'], 'content': ['Only kikes call other people kikes ', '\\n', 'Last seen: Saturday'], 'post_uid': ['post-1953339'], 'permalink': ['/threads/how-females-are-brainwashed-by-porn-and-become-deluded-to-penis-sizes-lifefuel-the-same-as-incels-here-so-if-you-are-a-dicklet-gtfih.99868/post-1953339']}\n",
      "\n",
      "\n",
      "{'author_account_name': ['Insomniac'], 'author_account_link': ['/members/insomniac.14776/'], 'author_account_number': ['14776'], 'time_created': ['1547001272'], 'content': ['I hope he’s doing alright. Hasn’t been around in a while. '], 'post_uid': ['post-1953347'], 'permalink': ['/threads/how-females-are-brainwashed-by-porn-and-become-deluded-to-penis-sizes-lifefuel-the-same-as-incels-here-so-if-you-are-a-dicklet-gtfih.99868/post-1953347']}\n",
      "\n",
      "\n",
      "{'author_account_name': ['OccidentalRebel'], 'author_account_link': ['/members/occidentalrebel.16548/'], 'author_account_number': ['16548'], 'time_created': ['1547001413'], 'content': [\"This threads cope as fuck lol. The cunt's cunt will expand when aroused and can stretch quite a bit to accommodate a bigger dee ngl. Yes a bigger one will make the foids like that better.\"], 'post_uid': ['post-1953353'], 'permalink': ['/threads/how-females-are-brainwashed-by-porn-and-become-deluded-to-penis-sizes-lifefuel-the-same-as-incels-here-so-if-you-are-a-dicklet-gtfih.99868/post-1953353']}\n",
      "\n",
      "\n",
      "{'author_account_name': ['Sadness'], 'author_account_link': ['/members/sadness.677/'], 'author_account_number': ['677'], 'time_created': ['1547001558'], 'content': [], 'post_uid': ['post-1953362'], 'permalink': ['/threads/how-females-are-brainwashed-by-porn-and-become-deluded-to-penis-sizes-lifefuel-the-same-as-incels-here-so-if-you-are-a-dicklet-gtfih.99868/post-1953362']}\n",
      "\n",
      "\n",
      "{'author_account_name': ['Mokocchi'], 'author_account_link': ['/members/mokocchi.14487/'], 'author_account_number': ['14487'], 'time_created': ['1547001568'], 'content': [\"I have been saying this in the discord for a while now, seems I'm not the only one who hasn't drunk the Kool-Aid.\"], 'post_uid': ['post-1953364'], 'permalink': ['/threads/how-females-are-brainwashed-by-porn-and-become-deluded-to-penis-sizes-lifefuel-the-same-as-incels-here-so-if-you-are-a-dicklet-gtfih.99868/post-1953364']}\n",
      "\n",
      "\n",
      "{'author_account_name': ['Eskimocel'], 'author_account_link': ['/members/eskimocel.15752/'], 'author_account_number': ['15752'], 'time_created': ['1547001594'], 'content': ['Dont worry, people just respond with cope as usual'], 'post_uid': ['post-1953365'], 'permalink': ['/threads/how-females-are-brainwashed-by-porn-and-become-deluded-to-penis-sizes-lifefuel-the-same-as-incels-here-so-if-you-are-a-dicklet-gtfih.99868/post-1953365']}\n",
      "\n",
      "\n"
     ]
    }
   ],
   "source": [
    "import pprint\n",
    "pp = pprint.PrettyPrinter(indent=4)\n",
    "class post:\n",
    "    def __init__(self):\n",
    "        self.author_account_name = None\n",
    "        self.author_account_link = None\n",
    "        self.author_account_number = None\n",
    "        self.time_created = None\n",
    "        self.content = None\n",
    "        self.post_uid = None\n",
    "        self.permalink = None\n",
    "post_list = []\n",
    "for article in Selector(text = text).xpath(\"//article[contains(@class, 'message--post')]\"):\n",
    "    new_post = post()\n",
    "    new_post.author_account_name = article.xpath(\"@data-author\").extract()\n",
    "    new_post.post_uid = article.xpath(\"@data-content\").extract()\n",
    "    new_post.author_account_number = article.xpath(\".//div[@class='message-userDetails']/h4/a/@data-user-id\").extract()\n",
    "    new_post.author_account_link = article.xpath(\".//div[@class='message-userDetails']/h4/a/@href\").extract()\n",
    "    new_post.time_created = article.xpath(\".//div[@class = 'message-date']//time/@data-time\").extract()\n",
    "    new_post.permalink = article.xpath(\".//div[@class = 'message-permalink']//a/@href\").extract()\n",
    "    new_post.content = article.xpath(\".//div[@class = 'bbWrapper']/text()\").extract()\n",
    "    post_list.append(new_post)\n",
    "output = []\n",
    "for _post in sorted(post_list, key=lambda x:x.time_created):\n",
    "    print(_post.__dict__)\n",
    "    print(\"\\n\")\n",
    "\n"
   ]
  },
  {
   "cell_type": "code",
   "execution_count": 249,
   "metadata": {},
   "outputs": [
    {
     "name": "stdout",
     "output_type": "stream",
     "text": [
      "{'author_account_name': 'The_Unknown', 'author_account_link': '/members/the_unknown.15263/', 'time_created': '1545329860', 'content': 'Incels are often lumped in with nice guys and neck beards and for some\\nexamples cross overs between these groups may occur, however we are\\nfundamentally we are superior to these groups because we are hyper self aware\\nof our lot in life whilst they are incredibly delusional. Lets start of with\\nnice guys, nice guys are for the most part blue pilled because they believe\\nthat being nice will make women interested in you and therefore they will\\nbecome doormats not just for foids but also for other men. Nice guys often get\\ndelusional when a foid treats them with just a little bit of human dignity to\\nthe point that they think that the foid is interested in them. The worst kind\\nof nice guys are the simps the sort of cucks who spend money on E-thots in\\nexchange for something pathetic like a shout out or the cucks whom say shit\\nlike, \"I\\'d walk through the hottest desert covered in glass just so I can\\nsniff her fart.\" Neck beards are what normies think we are, this is because to\\nthe normie all one needs to do is to shower, eat healthily and exercise as\\nwell as not dress like a retard. All of this advice would honestly help a lot\\nof neckbeards not be physically disgusting. However our problems go a lot\\ndeeper than that of exercise or hygine as the problems we are face are due to\\nbad genetics, shitty upbringing, mental scarring with school etc. Neckbeards\\nare delusional and believe themselves to be the smarted and greatest people to\\never exist. Look through the vast majority of incel posts and we are the\\ncomplete opposite to this, we are aware of our failure and therefore we are\\nnot deluded.\\n\\n', 'post_uid': 'post-1863058', 'permalink': '/threads/why-we-are-superior-to-nice-guys-and-neck-beards.95871/post-1863058'}\n",
      "{'author_account_name': 'Blacktarpill', 'author_account_link': '/members/blacktarpill.14509/', 'time_created': '1545329935', 'content': 'The_Unknown said: doormats Click to expand... @Footmat\\n\\n', 'post_uid': 'post-1863063', 'permalink': '/threads/why-we-are-superior-to-nice-guys-and-neck-beards.95871/post-1863063'}\n",
      "{'author_account_name': 'Iamthesui', 'author_account_link': '/members/iamthesui.13576/', 'time_created': '1545330057', 'content': \"We aren't cucked\\n\\n\", 'post_uid': 'post-1863071', 'permalink': '/threads/why-we-are-superior-to-nice-guys-and-neck-beards.95871/post-1863071'}\n",
      "{'author_account_name': 'PersonalityChad', 'author_account_link': '/members/personalitychad.5730/', 'time_created': '1545330076', 'content': 'JFL if you are nice to females in current year and expect to get puss for\\nthat.\\n\\n', 'post_uid': 'post-1863074', 'permalink': '/threads/why-we-are-superior-to-nice-guys-and-neck-beards.95871/post-1863074'}\n",
      "{'author_account_name': 'Cuyen', 'author_account_link': '/members/cuyen.12431/', 'time_created': '1545330507', 'content': \"Iamthesui said: We aren't cucked Click to expand... this biggest superiority\\ntbh\\n\\n\", 'post_uid': 'post-1863106', 'permalink': '/threads/why-we-are-superior-to-nice-guys-and-neck-beards.95871/post-1863106'}\n",
      "{'author_account_name': 'TheProphetMuscle', 'author_account_link': '/members/theprophetmuscle.9044/', 'time_created': '1545330907', 'content': 'I used to be a nice guy, I’d treat foids super nice and buy them gifts with\\nhopes they would love me in return. But no. They end up fucking some douche\\nwho looks better. This made me soooo angry inside and I refuse to be nice to\\nfoids anymore\\n\\n', 'post_uid': 'post-1863146', 'permalink': '/threads/why-we-are-superior-to-nice-guys-and-neck-beards.95871/post-1863146'}\n",
      "{'author_account_name': 'Michael15651', 'author_account_link': '/members/michael15651.15599/', 'time_created': '1545331779', 'content': \"Iamthesui said: We aren't cucked Click to expand... Best and most simple way\\nto put it tbh\\n\\n\", 'post_uid': 'post-1863255', 'permalink': '/threads/why-we-are-superior-to-nice-guys-and-neck-beards.95871/post-1863255'}\n",
      "{'author_account_name': 'CuckFestus837', 'author_account_link': '/members/cuckfestus837.9020/', 'time_created': '1545340358', 'content': 'Reality is Incels ARE the supreme gentleman. And that is why we cannot be\\naccepted, because we are just too supreme. These vapid whores only know how to\\nsuck dumb Chad cock, anything more supreme, and their brains can’t handle that\\nlevel of supremacy.\\n\\n', 'post_uid': 'post-1863884', 'permalink': '/threads/why-we-are-superior-to-nice-guys-and-neck-beards.95871/post-1863884'}\n",
      "{'author_account_name': 'Swiswis', 'author_account_link': '/members/swiswis.13882/', 'time_created': '1545340485', 'content': 'foids will come to nice guys when they reach 26-27 and in that time, if you\\nstudymaxed and looxmaxed, just tell them to fuck off\\n\\n', 'post_uid': 'post-1863892', 'permalink': '/threads/why-we-are-superior-to-nice-guys-and-neck-beards.95871/post-1863892'}\n"
     ]
    }
   ],
   "source": [
    "articles = soup.find_all(\"article\", class_=\"message--post\")\n",
    "class post:\n",
    "    def __init__(self):\n",
    "        self.author_account_name = None\n",
    "        self.author_account_link = None\n",
    "        self.time_created = None\n",
    "        self.content = None\n",
    "        self.post_uid = None\n",
    "        self.permalink = None\n",
    "        \n",
    "post_list = []\n",
    "for article in articles:\n",
    "    new_post = post()\n",
    "    new_post.author_account_name = article[\"data-author\"]\n",
    "    new_post.post_uid = article[\"data-content\"]\n",
    "    new_post.author_account_link = article.find(class_=\"message-userDetails\").find(\"a\")[\"href\"]\n",
    "    new_post.time_created = article.find(class_=\"message-date\").find(\"time\")['data-time']\n",
    "    new_post.permalink = article.find(class_='message-permalink').find('a')['href']\n",
    "    new_post.content = html2text(article.find(class_=\"bbWrapper\").text)\n",
    "    post_list.append(new_post)\n",
    "\n",
    "for post in post_list:\n",
    "    print(post.__dict__)"
   ]
  },
  {
   "cell_type": "code",
   "execution_count": null,
   "metadata": {},
   "outputs": [],
   "source": []
  },
  {
   "cell_type": "code",
   "execution_count": null,
   "metadata": {},
   "outputs": [],
   "source": []
  },
  {
   "cell_type": "code",
   "execution_count": null,
   "metadata": {},
   "outputs": [],
   "source": []
  }
 ],
 "metadata": {
  "kernelspec": {
   "display_name": "Python 3",
   "language": "python",
   "name": "python3"
  },
  "language_info": {
   "codemirror_mode": {
    "name": "ipython",
    "version": 3
   },
   "file_extension": ".py",
   "mimetype": "text/x-python",
   "name": "python",
   "nbconvert_exporter": "python",
   "pygments_lexer": "ipython3",
   "version": "3.7.0"
  }
 },
 "nbformat": 4,
 "nbformat_minor": 2
}
