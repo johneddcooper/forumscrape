{
 "cells": [
  {
   "cell_type": "code",
   "execution_count": 1,
   "metadata": {},
   "outputs": [],
   "source": [
    "import pymongo\n",
    "from pprint import pprint\n",
    "from pymongo import MongoClient\n",
    "import random\n",
    "import time"
   ]
  },
  {
   "cell_type": "code",
   "execution_count": 2,
   "metadata": {},
   "outputs": [],
   "source": [
    "client = MongoClient('192.168.2.70', 27017)\n",
    "db=client['fruitsandveggies']\n",
    "#collection = db['aggregate-out-test']\n",
    "collection = db['threads']"
   ]
  },
  {
   "cell_type": "code",
   "execution_count": 10,
   "metadata": {},
   "outputs": [
    {
     "data": {
      "text/plain": [
       "<pymongo.command_cursor.CommandCursor at 0x5f286d8>"
      ]
     },
     "execution_count": 10,
     "metadata": {},
     "output_type": "execute_result"
    }
   ],
   "source": [
    "pipeline =  [ \n",
    "    { \"$unwind\": \"$posts\" }, \n",
    "    { \"$project\": \n",
    "         { \"_id\": 0, \n",
    "          \"thread_title\": \"$title\", \n",
    "          \"post_username\": \"$posts.user\", \n",
    "          \"post_time\": \"$posts.datetime\", \n",
    "          \"thread_url\": \"$url\", \n",
    "          \"post_content\": \"$posts.content\" } }, \n",
    "    { \"$sort\": { \"thread_title\": 1 } }, \n",
    "    { \"$out\": \"aggregate-posts-out\" }\n",
    "    ]\n",
    "collection.aggregate(pipeline, allowDiskUse=True)\n"
   ]
  },
  {
   "cell_type": "code",
   "execution_count": null,
   "metadata": {},
   "outputs": [],
   "source": [
    "#run in mongo shell to replace .is domain with name switch\n",
    "# > db.getCollection('threads_copy').find({url: /incels.is/}).forEach(function(doc){\n",
    "# ... doc.url = doc.url.replace(\"//incels.is\",\"//incels.co\")\n",
    "# ... db.getCollection('threads_copy').save(doc);})\n"
   ]
  },
  {
   "cell_type": "code",
   "execution_count": null,
   "metadata": {},
   "outputs": [],
   "source": []
  }
 ],
 "metadata": {
  "kernelspec": {
   "display_name": "Python 3",
   "language": "python",
   "name": "python3"
  },
  "language_info": {
   "codemirror_mode": {
    "name": "ipython",
    "version": 3
   },
   "file_extension": ".py",
   "mimetype": "text/x-python",
   "name": "python",
   "nbconvert_exporter": "python",
   "pygments_lexer": "ipython3",
   "version": "3.6.8"
  }
 },
 "nbformat": 4,
 "nbformat_minor": 2
}
