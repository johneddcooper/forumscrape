{
 "cells": [
  {
   "cell_type": "code",
   "execution_count": 1,
   "metadata": {},
   "outputs": [],
   "source": [
    "import pymongo\n",
    "from pprint import pprint\n",
    "from pymongo import MongoClient\n",
    "import random\n",
    "import time"
   ]
  },
  {
   "cell_type": "code",
   "execution_count": 2,
   "metadata": {},
   "outputs": [],
   "source": [
    "client = MongoClient('192.168.2.70', 27017)\n",
    "db=client['fruitsandveggies']\n",
    "#collection = db['aggregate-out-test']\n",
    "collection = db['threads']"
   ]
  },
  {
   "cell_type": "code",
   "execution_count": 10,
   "metadata": {},
   "outputs": [
    {
     "data": {
      "text/plain": [
       "<pymongo.command_cursor.CommandCursor at 0x5f286d8>"
      ]
     },
     "execution_count": 10,
     "metadata": {},
     "output_type": "execute_result"
    }
   ],
   "source": [
    "pipeline =  [ \n",
    "    { \"$unwind\": \"$posts\" }, \n",
    "    { \"$project\": \n",
    "         { \"_id\": 0, \n",
    "          \"thread_title\": \"$title\", \n",
    "          \"post_username\": \"$posts.user\", \n",
    "          \"post_time\": \"$posts.datetime\", \n",
    "          \"thread_url\": \"$url\", \n",
    "          \"post_content\": \"$posts.content\" } }, \n",
    "    { \"$sort\": { \"thread_title\": 1 } }, #sort by post time?\n",
    "    { \"$out\": \"aggregate-posts-out\" }\n",
    "    ]\n",
    "collection.aggregate(pipeline, allowDiskUse=True)\n"
   ]
  },
  {
   "cell_type": "code",
   "execution_count": 2,
   "metadata": {},
   "outputs": [
    {
     "ename": "NameError",
     "evalue": "name 'db' is not defined",
     "output_type": "error",
     "traceback": [
      "\u001b[1;31m---------------------------------------------------------------------------\u001b[0m",
      "\u001b[1;31mNameError\u001b[0m                                 Traceback (most recent call last)",
      "\u001b[1;32m<ipython-input-2-89ed351c81b7>\u001b[0m in \u001b[0;36m<module>\u001b[1;34m\u001b[0m\n\u001b[0;32m      1\u001b[0m \u001b[1;32mimport\u001b[0m \u001b[0mrandom\u001b[0m\u001b[1;33m\u001b[0m\u001b[1;33m\u001b[0m\u001b[0m\n\u001b[0;32m      2\u001b[0m \u001b[1;32mimport\u001b[0m \u001b[0mmath\u001b[0m\u001b[1;33m\u001b[0m\u001b[1;33m\u001b[0m\u001b[0m\n\u001b[1;32m----> 3\u001b[1;33m \u001b[0mcollection\u001b[0m \u001b[1;33m=\u001b[0m \u001b[0mdb\u001b[0m\u001b[1;33m[\u001b[0m\u001b[1;34m'aggregate-posts-out'\u001b[0m\u001b[1;33m]\u001b[0m\u001b[1;33m\u001b[0m\u001b[1;33m\u001b[0m\u001b[0m\n\u001b[0m\u001b[0;32m      4\u001b[0m \u001b[0mpost_dict\u001b[0m \u001b[1;33m=\u001b[0m \u001b[0mdict\u001b[0m\u001b[1;33m(\u001b[0m\u001b[1;33m)\u001b[0m\u001b[1;33m\u001b[0m\u001b[1;33m\u001b[0m\u001b[0m\n\u001b[0;32m      5\u001b[0m \u001b[0muser_set\u001b[0m \u001b[1;33m=\u001b[0m \u001b[0mset\u001b[0m\u001b[1;33m(\u001b[0m\u001b[1;33m)\u001b[0m\u001b[1;33m\u001b[0m\u001b[1;33m\u001b[0m\u001b[0m\n",
      "\u001b[1;31mNameError\u001b[0m: name 'db' is not defined"
     ]
    }
   ],
   "source": [
    "import random\n",
    "import math\n",
    "collection = db['aggregate-posts-out']\n",
    "post_dict = dict()\n",
    "user_set = set()\n",
    "for (_id, user) in collection.find({}, {'_id':1, 'post_username':1}):\n",
    "    post_dict[_id]=user\n",
    "    user_set.add(user)\n",
    "\n",
    "# Assign random users\n",
    "# sort by time, threads title, remove both?\n",
    "# in spacy processing, flag propnouns?\n",
    "# process each post seporatly"
   ]
  },
  {
   "cell_type": "code",
   "execution_count": 26,
   "metadata": {},
   "outputs": [
    {
     "name": "stdout",
     "output_type": "stream",
     "text": [
      "{1: 5, 2: 7, 3: 10, 4: 11, 5: 6, 6: 1, 7: 3, 8: 13, 9: 9, 10: 4, 11: 2, 12: 8, 13: 5, 14: 5, 15: 7, 16: 7, 17: 0, 18: 0, 19: 12}\n"
     ]
    }
   ],
   "source": [
    "from math import log10, ceil\n",
    "from random import sample\n",
    "posts = ['a','b','c','e','f','g','h','i','j','k','l','m','a','a','b','b','n','n','o']\n",
    "post_dict=dict()    \n",
    "user_set=set()\n",
    "\n",
    "id = 1\n",
    "for user in posts:\n",
    "    post_dict[id]=user\n",
    "    user_set.add(user)\n",
    "    id+=1\n",
    "    \n",
    "user_id_dict = dict()\n",
    "random_ids = sample(range(len(user_set)),len(user_set))\n",
    "for user in user_set:\n",
    "    user_id_dict[user] = random_ids.pop()\n",
    "\n",
    "for post_id in post_dict.keys():\n",
    "    post_dict[post_id] = user_id_dict[post_dict[post_id]]\n",
    "    \n",
    "print(post_dict)"
   ]
  }
 ],
 "metadata": {
  "kernelspec": {
   "display_name": "Python 3",
   "language": "python",
   "name": "python3"
  },
  "language_info": {
   "codemirror_mode": {
    "name": "ipython",
    "version": 3
   },
   "file_extension": ".py",
   "mimetype": "text/x-python",
   "name": "python",
   "nbconvert_exporter": "python",
   "pygments_lexer": "ipython3",
   "version": "3.6.8"
  }
 },
 "nbformat": 4,
 "nbformat_minor": 2
}
