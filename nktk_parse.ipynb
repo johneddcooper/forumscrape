{
 "cells": [
  {
   "cell_type": "code",
   "execution_count": null,
   "metadata": {},
   "outputs": [],
   "source": [
    "import nltk, re\n",
    "nltk.data.path.append(r\"C:\\Users\\John\\Documents\\Programming\\nltk\\nltk_data\")\n",
    "from nltk import *\n",
    "from pprint import pprint\n",
    "import pymongo\n",
    "from pymongo import MongoClient\n",
    "client = MongoClient('192.168.2.70', 27017)\n",
    "client.list_database_names()\n",
    "db=client['fruitsandveggies']\n",
    "#collection = db['aggregate-out-test']\n",
    "collection = db['aggregate-posts-out']"
   ]
  },
  {
   "cell_type": "code",
   "execution_count": null,
   "metadata": {},
   "outputs": [],
   "source": [
    "posts = collection.find({})\n",
    "#threads = [thread['posts'] for thread in threads]\n",
    "#posts = [post for thread in threads for post in thread]\n",
    "#contents = [post['content'] for post in posts]\n",
    "raw = '. '.join([post['post_content'] for post in posts if post['post_content'] != \"\\\\n\"])\n",
    "raw = raw.replace(\"\\n\",\" \")\n",
    "#raw = raw.replace(\"\\\\n\",\".\").replace(\"\\\\\",\" \")\n",
    "pprint(raw)"
   ]
  },
  {
   "cell_type": "code",
   "execution_count": null,
   "metadata": {},
   "outputs": [],
   "source": [
    "tokens = word_tokenize(raw)\n",
    "text = nltk.Text(tokens)\n",
    "tagged_text = pos_tag(text)\n",
    "word_tag_pairs = bigrams(tagged_text)\n",
    "noun_preceders = [(a[0],b[0]) for (a, b) in word_tag_pairs if b[1] in ['NN','NNS']]\n",
    "for i in noun_preceders:\n",
    "   pprint(i)"
   ]
  },
  {
   "cell_type": "code",
   "execution_count": 31,
   "metadata": {},
   "outputs": [
    {
     "name": "stdout",
     "output_type": "stream",
     "text": [
      "\n"
     ]
    }
   ],
   "source": [
    "import "
   ]
  },
  {
   "cell_type": "code",
   "execution_count": null,
   "metadata": {},
   "outputs": [],
   "source": []
  },
  {
   "cell_type": "code",
   "execution_count": null,
   "metadata": {},
   "outputs": [],
   "source": []
  }
 ],
 "metadata": {
  "kernelspec": {
   "display_name": "Python 3",
   "language": "python",
   "name": "python3"
  },
  "language_info": {
   "codemirror_mode": {
    "name": "ipython",
    "version": 3
   },
   "file_extension": ".py",
   "mimetype": "text/x-python",
   "name": "python",
   "nbconvert_exporter": "python",
   "pygments_lexer": "ipython3",
   "version": "3.6.8"
  }
 },
 "nbformat": 4,
 "nbformat_minor": 2
}
